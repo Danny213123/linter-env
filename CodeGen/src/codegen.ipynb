{
 "cells": [
  {
   "cell_type": "code",
   "execution_count": null,
   "id": "22071c64-f073-409b-96d1-5d4d63155457",
   "metadata": {},
   "outputs": [],
   "source": [
    "! pip install -q transformers"
   ]
  },
  {
   "cell_type": "code",
   "execution_count": null,
   "id": "eb787545-48ae-47fc-854b-fb5db412e087",
   "metadata": {},
   "outputs": [],
   "source": [
    "!apt show rocm-libs -a"
   ]
  },
  {
   "cell_type": "code",
   "execution_count": 1,
   "id": "2c7ceba8-6bbe-49e9-8252-e8ae7964d319",
   "metadata": {},
   "outputs": [],
   "source": [
    "import time\n",
    "import torch\n",
    "import os \n",
    "\n",
    "# os.environ['HSA_OVERRIDE_GFX_VERSION']='10.3.0' # depending on your AMD GPU, you may need to run this line"
   ]
  },
  {
   "cell_type": "code",
   "execution_count": 2,
   "id": "b6a0a6b4-ab3d-4f85-bce0-04f73feaf5f7",
   "metadata": {},
   "outputs": [
    {
     "name": "stderr",
     "output_type": "stream",
     "text": [
      "/opt/conda/envs/py_3.10/lib/python3.10/site-packages/tqdm/auto.py:21: TqdmWarning: IProgress not found. Please update jupyter and ipywidgets. See https://ipywidgets.readthedocs.io/en/stable/user_install.html\n",
      "  from .autonotebook import tqdm as notebook_tqdm\n",
      "tokenizer_config.json: 100%|████████████████████| 240/240 [00:00<00:00, 814kB/s]\n",
      "vocab.json: 100%|████████████████████████████| 798k/798k [00:00<00:00, 1.90MB/s]\n",
      "merges.txt: 100%|████████████████████████████| 456k/456k [00:00<00:00, 5.33MB/s]\n",
      "tokenizer.json: 100%|██████████████████████| 2.11M/2.11M [00:01<00:00, 1.23MB/s]\n",
      "added_tokens.json: 100%|███████████████████| 1.00k/1.00k [00:00<00:00, 7.24MB/s]\n",
      "special_tokens_map.json: 100%|████████████████| 90.0/90.0 [00:00<00:00, 666kB/s]"
     ]
    },
    {
     "name": "stdout",
     "output_type": "stream",
     "text": [
      "Loaded in  6.89 seconds\n",
      "CodeGenForCausalLM(\n",
      "  (transformer): CodeGenModel(\n",
      "    (wte): Embedding(51200, 1024)\n",
      "    (drop): Dropout(p=0.0, inplace=False)\n",
      "    (h): ModuleList(\n",
      "      (0-19): 20 x CodeGenBlock(\n",
      "        (ln_1): LayerNorm((1024,), eps=1e-05, elementwise_affine=True)\n",
      "        (attn): CodeGenAttention(\n",
      "          (attn_dropout): Dropout(p=0.0, inplace=False)\n",
      "          (resid_dropout): Dropout(p=0.0, inplace=False)\n",
      "          (qkv_proj): Linear(in_features=1024, out_features=3072, bias=False)\n",
      "          (out_proj): Linear(in_features=1024, out_features=1024, bias=False)\n",
      "        )\n",
      "        (mlp): CodeGenMLP(\n",
      "          (fc_in): Linear(in_features=1024, out_features=4096, bias=True)\n",
      "          (fc_out): Linear(in_features=4096, out_features=1024, bias=True)\n",
      "          (act): NewGELUActivation()\n",
      "          (dropout): Dropout(p=0.0, inplace=False)\n",
      "        )\n",
      "      )\n",
      "    )\n",
      "    (ln_f): LayerNorm((1024,), eps=1e-05, elementwise_affine=True)\n",
      "  )\n",
      "  (lm_head): Linear(in_features=1024, out_features=51200, bias=True)\n",
      ")\n"
     ]
    },
    {
     "name": "stderr",
     "output_type": "stream",
     "text": [
      "\n"
     ]
    }
   ],
   "source": [
    "from transformers import AutoModelForCausalLM, AutoTokenizer\n",
    "\n",
    "torch.set_default_device(\"cuda\")\n",
    "start_time = time.time()\n",
    "checkpoint = \"Salesforce/codegen-350M-mono\"\n",
    "model = AutoModelForCausalLM.from_pretrained(checkpoint)\n",
    "tokenizer = AutoTokenizer.from_pretrained(checkpoint)\n",
    "print(f\"Loaded in {time.time() - start_time: .2f} seconds\")\n",
    "print(model)"
   ]
  },
  {
   "cell_type": "code",
   "execution_count": 3,
   "id": "eb392fa1-6730-477f-9cd8-02cb5128a582",
   "metadata": {},
   "outputs": [],
   "source": [
    "def run_inference(raw_input):\n",
    "    start_time = time.time()\n",
    "    inputs = tokenizer(raw_inputs, return_tensors=\"pt\", return_attention_mask=False)\n",
    "    outputs = model.generate(**inputs,max_length=1000)\n",
    "    latency = time.time() - start_time\n",
    "    throughput = len(outputs[0]) / latency\n",
    "    print(f\"Latency:    {latency: .2f} seconds\")\n",
    "    print(f\"Throughput: {throughput: .2f} tokens/s\")\n",
    "    text = tokenizer.batch_decode(outputs)[0]\n",
    "    print(text)"
   ]
  },
  {
   "cell_type": "code",
   "execution_count": 4,
   "id": "b281bb2f-7c27-491d-a5b8-ddaa1881533b",
   "metadata": {},
   "outputs": [
    {
     "name": "stderr",
     "output_type": "stream",
     "text": [
      "The attention mask and the pad token id were not set. As a consequence, you may observe unexpected behavior. Please pass your input's `attention_mask` to obtain reliable results.\n",
      "Setting `pad_token_id` to `eos_token_id`:50256 for open-end generation.\n"
     ]
    },
    {
     "name": "stdout",
     "output_type": "stream",
     "text": [
      "Latency:     16.80 seconds\n",
      "Throughput:  31.07 tokens/s\n",
      " \n",
      "Given an integer array nums, return all the triplets [nums[i], nums[j], nums[k]] such that i!= j, i!= k, and j!= k, and nums[i] + nums[j] + nums[k] == 0.\n",
      "\n",
      "Notice that the solution set must not contain duplicate triplets.\n",
      "\n",
      "Example 1:\n",
      "\n",
      "Input: nums = [-1,0,1,2,-1,-4]\n",
      "Output: [[-1,-1,2],[-1,0,1]]\n",
      "Explanation:\n",
      "-1 and -1 are triplets.\n",
      "-1 and 0 are not triplets.\n",
      "-1 and 1 are not triplets.\n",
      "-4 and -1 are not triplets.\n",
      "-4 and -1 are triplets.\n",
      "-4 and 0 are not triplets.\n",
      "-4 and 1 are triplets.\n",
      "-1 and 2 are not triplets.\n",
      "\n",
      "Example 2:\n",
      "\n",
      "Input: nums = []\n",
      "Output: []\n",
      "\n",
      "Example 3:\n",
      "\n",
      "Input: nums = [0]\n",
      "Output: []\n",
      "\n",
      "Constraints:\n",
      "\n",
      "1 <= nums.length <= 104\n",
      "-104 <= nums[i] <= 104\n",
      "\n",
      "\"\"\"\n",
      "\n",
      "class Solution:\n",
      "    def threeSum(self, nums: List[int]) -> List[List[int]]:\n",
      "        nums.sort()\n",
      "        res = []\n",
      "        for i in range(len(nums)):\n",
      "            if i > 0 and nums[i] == nums[i-1]:\n",
      "                continue\n",
      "            l, r = i+1, len(nums)-1\n",
      "            while l < r:\n",
      "                if nums[i] + nums[l] + nums[r] == 0:\n",
      "                    res.append([nums[i], nums[l], nums[r]])\n",
      "                    while l < r and nums[l] == nums[l+1]:\n",
      "                        l += 1\n",
      "                    while l < r and nums[r] == nums[r-1]:\n",
      "                        r -= 1\n",
      "                    l += 1\n",
      "                    r -= 1\n",
      "                elif nums[i] + nums[l] + nums[r] > 0:\n",
      "                    r -= 1\n",
      "                else:\n",
      "                    l += 1\n",
      "        return res\n",
      "<|endoftext|>\n"
     ]
    }
   ],
   "source": [
    "raw_inputs = ''' \n",
    "Given an integer array nums, return all the triplets [nums[i], nums[j], nums[k]] such that i != j, i != k, and j != k, and nums[i] + nums[j] + nums[k] == 0.\n",
    "\n",
    "Notice that the solution set must not contain duplicate triplets.\n",
    "'''\n",
    "text = run_inference(raw_inputs)"
   ]
  },
  {
   "cell_type": "code",
   "execution_count": 7,
   "id": "07c56373-2011-4401-8756-1e1d592b8449",
   "metadata": {},
   "outputs": [
    {
     "name": "stderr",
     "output_type": "stream",
     "text": [
      "The attention mask and the pad token id were not set. As a consequence, you may observe unexpected behavior. Please pass your input's `attention_mask` to obtain reliable results.\n",
      "Setting `pad_token_id` to `eos_token_id`:50256 for open-end generation.\n"
     ]
    },
    {
     "name": "stdout",
     "output_type": "stream",
     "text": [
      "Latency:     13.82 seconds\n",
      "Throughput:  38.70 tokens/s\n",
      " \n",
      "Given a 1-indexed array of integers numbers that is already sorted in non-decreasing order, find two numbers such that they add up to a specific target number. Let these two numbers be numbers[index1] and numbers[index2] where 1 <= index1 < index2 <= numbers.length.\n",
      "\n",
      "Return the indices of the two numbers, index1 and index2, added by one as an integer array [index1, index2] of length 2.\n",
      "\n",
      "The tests are generated such that there is exactly one solution. You may not use the same element twice.\n",
      "\n",
      "Your solution must use only constant extra space.\n",
      "\n",
      "Example 1:\n",
      "\n",
      "Input: numbers = [2,7,11,15], target = 9\n",
      "Output: [1,2]\n",
      "Explanation: The sum of 2 and 7 is 9. Therefore index1 = 1, index2 = 2.\n",
      "Example 2:\n",
      "\n",
      "Input: numbers = [2,3,4], target = 6\n",
      "Output: [1,3]\n",
      "Explanation: The sum of 2 and 3 is 6. Therefore index1 = 1, index2 = 3.\n",
      "Example 3:\n",
      "\n",
      "Input: numbers = [2,3,4], target = 18\n",
      "Output: [1,3]\n",
      "Explanation: The sum of 2 and 3 is 6. Therefore index1 = 1, index2 = 3.\n",
      "Example 4:\n",
      "\n",
      "Input: numbers = [2,3,4], target = 0\n",
      "Output: [1,2]\n",
      "Explanation: The sum of 2 and 0 is 0. Therefore index1 = 1, index2 = 2.\n",
      "Example 5:\n",
      "\n",
      "Input: numbers = [2,3,4], target = 10\n",
      "Output: [1,3]\n",
      "Explanation: The sum of 2 and 3 is 6. Therefore index1 = 1, index2 = 3.\n",
      "\n",
      "Constraints:\n",
      "\n",
      "1 <= numbers.length <= 10^4\n",
      "-10^9 <= numbers[i] <= 10^9\n",
      "-10^9 <= target <= 10^9\n",
      "\n",
      "\"\"\"\n",
      "\n",
      "class Solution:\n",
      "    def twoSum(self, numbers: List[int], target: int) -> List[int]:\n",
      "        for i in range(len(numbers)):\n",
      "            for j in range(i+1, len(numbers)):\n",
      "                if numbers[i] + numbers[j] == target:\n",
      "                    return [i, j]\n",
      "        return []\n",
      "<|endoftext|>\n"
     ]
    }
   ],
   "source": [
    "raw_inputs = ''' \n",
    "Given a 1-indexed array of integers numbers that is already sorted in non-decreasing order, find two numbers such that they add up to a specific target number. Let these two numbers be numbers[index1] and numbers[index2] where 1 <= index1 < index2 <= numbers.length.\n",
    "\n",
    "Return the indices of the two numbers, index1 and index2, added by one as an integer array [index1, index2] of length 2.\n",
    "\n",
    "The tests are generated such that there is exactly one solution. You may not use the same element twice.\n",
    "\n",
    "Your solution must use only constant extra space.\n",
    "'''\n",
    "text = run_inference(raw_inputs)"
   ]
  },
  {
   "cell_type": "code",
   "execution_count": 9,
   "id": "cd61a141-f64b-49fb-9ac7-6307079cd1c4",
   "metadata": {},
   "outputs": [
    {
     "name": "stderr",
     "output_type": "stream",
     "text": [
      "The attention mask and the pad token id were not set. As a consequence, you may observe unexpected behavior. Please pass your input's `attention_mask` to obtain reliable results.\n",
      "Setting `pad_token_id` to `eos_token_id`:50256 for open-end generation.\n"
     ]
    },
    {
     "name": "stdout",
     "output_type": "stream",
     "text": [
      "Latency:     4.60 seconds\n",
      "Throughput:  30.65 tokens/s\n",
      " \n",
      "Implement binary search\n",
      "\"\"\"\n",
      "\n",
      "def binary_search(arr, target):\n",
      "    low = 0\n",
      "    high = len(arr) - 1\n",
      "    while low <= high:\n",
      "        mid = (low + high) // 2\n",
      "        if arr[mid] == target:\n",
      "            return mid\n",
      "        elif arr[mid] < target:\n",
      "            low = mid + 1\n",
      "        else:\n",
      "            high = mid - 1\n",
      "    return -1\n",
      "\n",
      "arr = [1,2,3,4,5,6,7,8,9,10]\n",
      "target = 10\n",
      "print(binary_search(arr, target))<|endoftext|>\n"
     ]
    }
   ],
   "source": [
    "raw_inputs = ''' \n",
    "Implement binary search\n",
    "'''\n",
    "text = run_inference(raw_inputs)"
   ]
  },
  {
   "cell_type": "code",
   "execution_count": null,
   "id": "4ce0c89a-242e-4bc7-a0a6-56663950d6dd",
   "metadata": {},
   "outputs": [],
   "source": []
  }
 ],
 "metadata": {
  "kernelspec": {
   "display_name": "Python 3 (ipykernel)",
   "language": "python",
   "name": "python3"
  },
  "language_info": {
   "codemirror_mode": {
    "name": "ipython",
    "version": 3
   },
   "file_extension": ".py",
   "mimetype": "text/x-python",
   "name": "python",
   "nbconvert_exporter": "python",
   "pygments_lexer": "ipython3",
   "version": "3.10.13"
  }
 },
 "nbformat": 4,
 "nbformat_minor": 5
}
