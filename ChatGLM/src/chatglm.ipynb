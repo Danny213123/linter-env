{
 "cells": [
  {
   "cell_type": "code",
   "execution_count": 1,
   "id": "9923c9ef-5331-4fdb-94ff-36eab90a92cf",
   "metadata": {},
   "outputs": [
    {
     "name": "stdout",
     "output_type": "stream",
     "text": [
      "\u001b[33mWARNING: Running pip as the 'root' user can result in broken permissions and conflicting behaviour with the system package manager. It is recommended to use a virtual environment instead: https://pip.pypa.io/warnings/venv\u001b[0m\u001b[33m\n",
      "\u001b[0m"
     ]
    }
   ],
   "source": [
    "! pip install -q transformers sentencepiece"
   ]
  },
  {
   "cell_type": "code",
   "execution_count": 2,
   "id": "6b6bcff8-e14d-4ead-9554-58fd768dbf7a",
   "metadata": {},
   "outputs": [
    {
     "name": "stderr",
     "output_type": "stream",
     "text": [
      "/usr/local/lib/python3.8/dist-packages/tqdm/auto.py:21: TqdmWarning: IProgress not found. Please update jupyter and ipywidgets. See https://ipywidgets.readthedocs.io/en/stable/user_install.html\n",
      "  from .autonotebook import tqdm as notebook_tqdm\n"
     ]
    }
   ],
   "source": [
    "import time \n",
    "from transformers import AutoTokenizer, AutoModel"
   ]
  },
  {
   "cell_type": "code",
   "execution_count": 16,
   "id": "ef307ff1-4e78-4d6c-9fa4-8ed8cda874c1",
   "metadata": {},
   "outputs": [
    {
     "name": "stderr",
     "output_type": "stream",
     "text": [
      "Loading checkpoint shards: 100%|██████████| 7/7 [00:05<00:00,  1.37it/s]\n"
     ]
    },
    {
     "name": "stdout",
     "output_type": "stream",
     "text": [
      "Loaded in  6.74 seconds\n"
     ]
    },
    {
     "data": {
      "text/plain": [
       "ChatGLMForConditionalGeneration(\n",
       "  (transformer): ChatGLMModel(\n",
       "    (embedding): Embedding(\n",
       "      (word_embeddings): Embedding(65024, 4096)\n",
       "    )\n",
       "    (rotary_pos_emb): RotaryEmbedding()\n",
       "    (encoder): GLMTransformer(\n",
       "      (layers): ModuleList(\n",
       "        (0-27): 28 x GLMBlock(\n",
       "          (input_layernorm): RMSNorm()\n",
       "          (self_attention): SelfAttention(\n",
       "            (query_key_value): Linear(in_features=4096, out_features=4608, bias=True)\n",
       "            (core_attention): CoreAttention(\n",
       "              (attention_dropout): Dropout(p=0.0, inplace=False)\n",
       "            )\n",
       "            (dense): Linear(in_features=4096, out_features=4096, bias=False)\n",
       "          )\n",
       "          (post_attention_layernorm): RMSNorm()\n",
       "          (mlp): MLP(\n",
       "            (dense_h_to_4h): Linear(in_features=4096, out_features=27392, bias=False)\n",
       "            (dense_4h_to_h): Linear(in_features=13696, out_features=4096, bias=False)\n",
       "          )\n",
       "        )\n",
       "      )\n",
       "      (final_layernorm): RMSNorm()\n",
       "    )\n",
       "    (output_layer): Linear(in_features=4096, out_features=65024, bias=False)\n",
       "  )\n",
       ")"
      ]
     },
     "execution_count": 16,
     "metadata": {},
     "output_type": "execute_result"
    }
   ],
   "source": [
    "start_time = time.time()\n",
    "tokenizer = AutoTokenizer.from_pretrained(\"THUDM/chatglm3-6b\", trust_remote_code=True)\n",
    "model = AutoModel.from_pretrained(\"THUDM/chatglm3-6b\", trust_remote_code=True).half().cuda()\n",
    "print(f\"Loaded in {time.time() - start_time: .2f} seconds\")\n",
    "\n",
    "model = model.eval() # put the model in eval mode \n",
    "model"
   ]
  },
  {
   "cell_type": "code",
   "execution_count": 5,
   "id": "a61393f3-ade0-482d-a597-d406b74a4754",
   "metadata": {},
   "outputs": [],
   "source": [
    "def run_inference(input_en, input_cn):\n",
    "    start_time = time.time()\n",
    "    input_en += \" .Provide answer in English\"\n",
    "    input_cn += \" 请提供答案，并使用中文语言\" \n",
    "    response, history = model.chat(tokenizer, input_en, history = [], do_sample=False) # setting do_sample to False for reproducibility \n",
    "    print(f\"Generated in {time.time() - start_time: .2f} seconds\")\n",
    "    print(response) \n",
    "    print() \n",
    "    \n",
    "    response, history = model.chat(tokenizer, input_cn, history = [], do_sample=False) \n",
    "    print(f\"Generated in {time.time() - start_time: .2f} seconds\")\n",
    "    print(response)"
   ]
  },
  {
   "cell_type": "code",
   "execution_count": 6,
   "id": "6e0ddace-0482-4e2e-a103-98db1a7360f6",
   "metadata": {},
   "outputs": [
    {
     "name": "stderr",
     "output_type": "stream",
     "text": [
      "/usr/local/lib/python3.8/dist-packages/transformers/generation/configuration_utils.py:389: UserWarning: `do_sample` is set to `False`. However, `temperature` is set to `0.8` -- this flag is only used in sample-based generation modes. You should set `do_sample=True` or unset `temperature`.\n",
      "  warnings.warn(\n",
      "/usr/local/lib/python3.8/dist-packages/transformers/generation/configuration_utils.py:394: UserWarning: `do_sample` is set to `False`. However, `top_p` is set to `0.8` -- this flag is only used in sample-based generation modes. You should set `do_sample=True` or unset `top_p`.\n",
      "  warnings.warn(\n"
     ]
    },
    {
     "name": "stdout",
     "output_type": "stream",
     "text": [
      "Generated in  11.66 seconds\n",
      "ChatGLM3-6B is an artificial intelligence assistant developed based on the language model GLM2 jointly trained by Tsinghua University KEG Lab and Zhipu AI Company in 2023. The main function of ChatGLM3-6B is to provide appropriate answers and support for users' questions and requirements.\n",
      "\n",
      "ChatGPT is an artificial intelligence chatbot program launched by OpenAI in November 2022. The program is based on a large language model GPT-3.5, trained with Instruction Tuning and Reinforcement Learning with Human Feedback (RLHF).\n",
      "\n",
      "Similarities between ChatGLM3-6B and ChatGPT:\n",
      "\n",
      "1. Both are AI assistants based on large language models, and can provide appropriate answers and support for users' questions and requirements.\n",
      "\n",
      "2. Both are developed based on open source technology, and can be integrated with other applications and systems to provide users with more interesting functions and services.\n",
      "\n",
      "Differences between ChatGLM3-6B and ChatGPT:\n",
      "\n",
      "1. Development background: ChatGLM3-6B was developed based on the language model GLM2 jointly trained by Tsinghua University KEG Lab and Zhipu AI Company, while ChatGPT was developed by OpenAI based on the language model GPT-3.5.\n",
      "\n",
      "2. Training method: ChatGLM3-6B uses a mixed reinforcement learning with human feedback (RLHF) method, while ChatGPT uses an instruction tuning and reinforcement learning with human feedback (RLHF) method.\n",
      "\n",
      "3. Application scenario: ChatGLM3-6B is mainly used to provide appropriate answers and support for users' questions and requirements, while ChatGPT is more interested in providing interesting functions and services for users to experience.\n",
      "\n",
      "4. Development time: ChatGLM3-6B was developed in 2023, while ChatGPT was developed in 2022.\n",
      "\n",
      "Generated in  20.13 seconds\n",
      "ChatGLM 是一个基于语言模型的人工智能助手，由清华大学 KEG 实验室和智谱 AI 公司于 2023 年共同训练的语言模型 GLM-130B 开发。ChatGLM 的任务是针对用户的问题和要求提供适当的答复和支持。\n",
      "\n",
      "ChatGPT 是由 OpenAI 于 2022 年 11 月推出的一个人工智能聊天机器人程序，该程序基于大型语言模型 GPT-3.5，使用指令微调（Instruction Tuning）和基于人类反馈的强化学习技术（RLHF）训练而成。\n",
      "\n",
      "ChatGLM 和 ChatGPT 之间的相似之处包括：\n",
      "\n",
      "1. 都是基于语言模型的人工智能助手。\n",
      "\n",
      "2. 都使用深度学习技术训练模型。\n",
      "\n",
      "3. 都拥有强大的语言理解能力和对话能力。\n",
      "\n",
      "不同之处包括：\n",
      "\n",
      "1. ChatGLM 是基于 GLM-130B 模型开发的，而 ChatGPT 是基于 GPT-3.5 模型开发的。\n",
      "\n",
      "2. ChatGLM 的任务是针对用户的问题和要求提供适当的答复和支持，而 ChatGPT 的任务是针对用户的问题和要求提供适当的答复和支持，以及完成各种任务。\n",
      "\n",
      "3. ChatGLM 是单语种的，而 ChatGPT 是多语种的，能够处理多种语言的对话。\n",
      "\n",
      "4. ChatGLM 的训练数据是中文语料库，而 ChatGPT 的训练数据是英文语料库和人类反馈数据。\n",
      "\n",
      "5. ChatGLM 的发布时间是 2023 年，而 ChatGPT 的发布时间是 2022 年 11 月。\n"
     ]
    }
   ],
   "source": [
    "input_en = \"What is ChatGLM? What are some similarities and differences between ChatGLM and ChatGPT?\"\n",
    "input_cn = \"什么是ChatGLM？ChatGLM和ChatGPT之间有哪些相似和不同之处？\" \n",
    "run_inference(input_en, input_cn) "
   ]
  },
  {
   "cell_type": "code",
   "execution_count": 7,
   "id": "f6e40b08-a438-4148-be86-3ec6f6b419dc",
   "metadata": {},
   "outputs": [
    {
     "name": "stdout",
     "output_type": "stream",
     "text": [
      "Generated in  5.97 seconds\n",
      "Natural language processing (NLP) is a field of artificial intelligence (AI) that focuses on the interaction between computers and human language. In recent years, there have been many developments in NLP that have improved the ability of computers to understand and process human language.\n",
      "\n",
      "One major development in NLP is the use of deep learning techniques, such as recurrent neural networks (RNNs) and transformer networks, to analyze large amounts of text data. These techniques allow computers to learn from large amounts of data and improve their performance over time.\n",
      "\n",
      "Another development in NLP is the use of预训练语言模型, such as BERT and GPT, which have been pre-trained on large amounts of text data and can be fine-tuned for specific tasks, such as language translation and text summarization.\n",
      "\n",
      "Additionally, there has been a growing focus on NLP applications such as language translation, sentiment analysis, and text generation. There has also been a growing interest in NLP for human-computer interaction, such as virtual assistants and chatbots.\n",
      "\n",
      "Overall, recent developments in NLP have improved the ability of computers to understand and process human language, and have led to many exciting new applications of AI.\n",
      "\n",
      "Generated in  12.27 seconds\n",
      "近年来,自然语言处理领域取得了很多进展。其中一些重要的进展包括:\n",
      "\n",
      "1. 机器翻译:机器翻译技术已经取得了很大的进步,包括神经机器翻译和基于注意力机制的机器翻译。这些技术可以更准确地将一种语言翻译成另一种语言。\n",
      "\n",
      "2. 文本分类和情感分析:文本分类和情感分析是自然语言处理中的两个重要任务。最近,研究人员使用深度学习技术取得了很好的分类效果和情感分析效果。\n",
      "\n",
      "3. 问答系统:问答系统是一种智能对话系统,可以根据用户的问题自动回答问题。最近,研究人员使用深度学习技术取得了很好的问答效果,包括基于 Transformer 的预训练语言模型和基于强化学习的问答系统。\n",
      "\n",
      "4. 语音识别和合成:语音识别和合成技术已经取得了很大的进步,可以更准确地将语音转换为文本,以及将文本转换为语音。这些技术在智能语音助手和虚拟助手等领域得到了广泛应用。\n",
      "\n",
      "5. 自然语言生成:自然语言生成技术可以自动生成自然语言文本,包括新闻报道、文章、社交媒体帖子等。最近,研究人员使用深度学习技术取得了很好的自然语言生成效果。\n",
      "\n",
      "自然语言处理领域的最近发展非常迅速,新技术的不断涌现使得机器能够更好地理解、分析和生成自然语言文本。\n"
     ]
    }
   ],
   "source": [
    "input_en = \"Explain the recent developments in natural language processing\"\n",
    "input_cn = \"解释自然语言处理领域的最近发展。\"\n",
    "run_inference(input_en, input_cn) "
   ]
  },
  {
   "cell_type": "code",
   "execution_count": 9,
   "id": "cc80cf6d-5ba7-4619-a205-d6e67de68974",
   "metadata": {},
   "outputs": [
    {
     "name": "stdout",
     "output_type": "stream",
     "text": [
      "Generated in  9.46 seconds\n",
      "Sure! Here's an implementation of the binary search algorithm in Python:\n",
      "```python\n",
      "def binary_search(arr, target):\n",
      "    \"\"\"\n",
      "    Perform a binary search on a sorted list to find the index of a target element.\n",
      "\n",
      "    Parameters:\n",
      "    arr (list): A sorted list of elements.\n",
      "    target: The element to search for.\n",
      "\n",
      "    Returns:\n",
      "    int: The index of the target element in the list, or -1 if the element is not found.\n",
      "    \"\"\"\n",
      "    left = 0\n",
      "    right = len(arr) - 1\n",
      "\n",
      "    while left <= right:\n",
      "        mid = (left + right) // 2\n",
      "\n",
      "        if arr[mid] == target:\n",
      "            return mid\n",
      "        elif arr[mid] < target:\n",
      "            left = mid + 1\n",
      "        else:\n",
      "            right = mid - 1\n",
      "\n",
      "    return -1\n",
      "```\n",
      "This implementation takes in two parameters: `arr`, which is a sorted list of elements, and `target`, which is the element we want to search for. It returns the index of the target element in the list, or -1 if the element is not found.\n",
      "\n",
      "The algorithm works by repeatedly dividing the search interval in half, until the target element is found or the search interval is empty. At each step, it compares the middle element of the interval to the target element. If the middle element is equal to the target, the search is successful and the index of the middle element is returned. If the middle element is less than the target, the search continues on the right half of the interval. If the middle element is greater than the target, the search continues on the left half of the interval.\n",
      "\n",
      "The time complexity of this algorithm is O(log n), where n is the length of the input list. This makes it much more efficient than linear search for large lists.\n",
      "\n",
      "Generated in  24.62 seconds\n",
      "二分查找（Binary Search）是一种在有序数组中查找特定元素的搜索算法。搜索过程从数组的中间元素开始，如果中间元素正好是要查找的元素，则搜索过程结束；如果某一特定元素大于或者小于中间元素，则在数组大于或小于中间元素的那一半中查找，而且跟开始一样从中间元素开始比较。如果在某一步骤数组为空，则代表找不到。\n",
      "\n",
      "下面是使用 Python 实现二分查找的代码：\n",
      "\n",
      "```python\n",
      "def binary_search(arr, target):\n",
      "    \"\"\"\n",
      "    使用二分查找在有序数组 arr 中查找元素 target\n",
      "    :param arr: 有序数组\n",
      "    :param target: 要查找的元素\n",
      "    :return: 元素在数组中的索引，如果找不到则返回 -1\n",
      "    \"\"\"\n",
      "    low, high = 0, len(arr) - 1\n",
      "\n",
      "    while low <= high:\n",
      "        mid = (low + high) // 2\n",
      "        if arr[mid] == target:\n",
      "            return mid\n",
      "        elif arr[mid] < target:\n",
      "            low = mid + 1\n",
      "        else:\n",
      "            high = mid - 1\n",
      "\n",
      "    return -1\n",
      "\n",
      "# 示例\n",
      "arr = [1, 2, 3, 4, 5, 6, 7, 8, 9]\n",
      "target = 5\n",
      "result = binary_search(arr, target)\n",
      "if result != -1:\n",
      "    print(f\"找到元素 {target}，索引为 {result}\")\n",
      "else:\n",
      "    print(f\"未找到元素 {target}\")\n",
      "```\n",
      "\n",
      "在这个代码示例中，我们定义了一个名为 `binary_search` 的函数，该函数接受一个有序数组 `arr` 和一个要查找的元素 `target`。函数首先定义了两个变量 `low` 和 `high`，分别表示数组的最左端和最右端。然后，在函数的主体中，我们使用一个 `while` 循环来进行二分查找。\n",
      "\n",
      "在每次循环中，我们计算数组中间元素的索引 `mid`，并将其与目标元素进行比较。如果中间元素等于目标元素，则表示找到目标元素，返回其索引；如果中间元素小于目标元素，则更新 `low` 为 `mid + 1`，表示目标元素在右半部分，从而缩小搜索范围；如果中间元素大于目标元素，则更新 `high` 为 `mid - 1`，表示目标元素在左半部分，从而缩小搜索范围。当 `low` 大于 `high` 时，搜索结束，返回 -1 表示未找到目标元素。\n",
      "\n",
      "在示例中，我们创建了一个有序数组 `arr` 和一个要查找的目标元素 `target`，然后调用 `binary_search` 函数进行查找。如果找到目标元素，则输出其索引；否则输出未找到元素的消息。\n"
     ]
    }
   ],
   "source": [
    "input_en = \"Implement code for binary search in Python\"\n",
    "input_cn = \"在Python中实现二分查找的代码\" \n",
    "run_inference(input_en, input_cn) "
   ]
  },
  {
   "cell_type": "code",
   "execution_count": 10,
   "id": "ded5d151-116e-482c-9eb9-2d409fc80116",
   "metadata": {},
   "outputs": [
    {
     "name": "stdout",
     "output_type": "stream",
     "text": [
      "Generated in  2.54 seconds\n",
      "The paper \"Attention Is All You Need\" proposes a new architecture for neural networks that replaces traditional recurrent neural networks (RNNs) and convolutional neural networks (CNNs) with attention mechanisms. Attention mechanisms allow the network to focus on different parts of the input sequence when processing each element, leading to more efficient and accurate processing. The proposed architecture, called the Transformer, achieves state-of-the-art performance on several natural language processing tasks while having fewer parameters than traditional neural network architectures.\n",
      "\n",
      "Generated in  8.47 seconds\n",
      "《Attention Is All You Need》这篇论文的主要内容是提出了一种新的自然语言处理模型，即Transformer模型。Transformer模型采用了一种全新的注意力机制，即自注意力机制，通过将输入序列与自身序列进行多头注意力计算，能够有效地捕捉输入序列中的长距离依赖关系。\n",
      "\n",
      "在Transformer模型中，自注意力机制的计算过程分为两个步骤：首先是将输入序列通过线性变换生成对应的 Query、Key 和 Value 向量，然后通过计算注意力权重，将这三个向量进行拼接，得到最终的输出向量。在这个过程中，自注意力机制使得每个输入序列都能够参与到模型的计算过程中，从而提高了模型的表达能力和学习能力。\n",
      "\n",
      "此外，Transformer模型还采用了一种编码器-解码器的结构，通过使用编码器来捕捉输入序列中的全局信息，然后使用解码器来生成输出序列。这种结构使得模型能够更好地处理长文本输入，并取得了在机器翻译等自然语言处理任务中的优秀表现。\n",
      "\n",
      "总之，Transformer模型通过采用自注意力机制和编码器-解码器结构，实现了在自然语言处理任务中取得优秀表现的目标，为后续的自然语言处理研究提供了新的思路和方向。\n"
     ]
    }
   ],
   "source": [
    "input_en = \"Summarize the paper 'Attention Is All You Need'\"\n",
    "input_cn = \"总结论文 'Attention Is All You Need'\" \n",
    "run_inference(input_en, input_cn) "
   ]
  }
 ],
 "metadata": {
  "kernelspec": {
   "display_name": "Python 3 (ipykernel)",
   "language": "python",
   "name": "python3"
  },
  "language_info": {
   "codemirror_mode": {
    "name": "ipython",
    "version": 3
   },
   "file_extension": ".py",
   "mimetype": "text/x-python",
   "name": "python",
   "nbconvert_exporter": "python",
   "pygments_lexer": "ipython3",
   "version": "3.8.10"
  }
 },
 "nbformat": 4,
 "nbformat_minor": 5
}
